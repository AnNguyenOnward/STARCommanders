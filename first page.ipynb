from pdfminer.high_level import extract_text
import re
import os
for filename in os.listdir("standard"):
  text = extract_text(f"standard/{filename}",page_numbers=[0])
  texts = text.split("\n")
  texts = [te.strip() for te in texts]
  for x in range(texts.count('')):
      texts.remove('')
  for x in range(texts.count(' ')):
      texts.remove(' ')
  dic = {"Title": None,
        "Document Number": None,
        "Version": "Baseline",
        "Document Date": None,
        "Measurment System": None,
        "Change Number": "0",
         "Revalidated": False}
  title = ""
  removes = ['NASA TECHNICAL','REVALIDATED','STANDARD','NASA TECHNICAL STANDARD','National Aeronautics and Space Administration',"MEASUREMENT SYSTEM IDENTIFICATION:"]
  for remove in removes:
    if remove in texts:
      texts.remove(remove)
  for i in range(len(texts)):
    if (re.match("NASA-", texts[i])):
      doc_num_span = re.search(r'\w+-\w+-[0-9.H-Z]', texts[i]).span()
      dic["Document Number"] = texts[i][doc_num_span[0]:doc_num_span[1]]
      if len(texts[i]) > doc_num_span[1]:
        dic["Version"] = texts[i][doc_num_span[1]:]
    elif (re.match("(METRIC|SI)",texts[i])):
      dic["Measurment System"] = texts[i]
    elif re.search("w/CHANGE",texts[i]):
      dic["Version"] += " " + texts[i]
      dic["Change Number"] = texts[i][len(texts[i]) - 2]
    elif (re.match("Approved:",texts[i])):
      dic["Document Date"] = texts[i].strip("Approved: ")
    elif re.match("APPROVED",texts[i]):
      pass
    elif re.match(r"[A-Z]{2,}",texts[i]):
      title += " " + texts[i]
  dic["Title"] = title
  print(dic)
